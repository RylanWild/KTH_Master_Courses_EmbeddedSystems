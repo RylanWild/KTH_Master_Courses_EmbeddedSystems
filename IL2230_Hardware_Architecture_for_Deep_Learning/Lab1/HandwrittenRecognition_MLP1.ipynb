{
  "cells": [
    {
      "cell_type": "markdown",
      "metadata": {
        "id": "umkBu6yhYzOL"
      },
      "source": [
        "# **1. Load and normalize dataset(MNIST)**"
      ]
    },
    {
      "cell_type": "code",
      "execution_count": 2,
      "metadata": {
        "id": "y4Ium3BWY_34"
      },
      "outputs": [],
      "source": [
        "import torch\n",
        "import torchvision\n",
        "import torchvision.datasets as datasets"
      ]
    },
    {
      "cell_type": "code",
      "execution_count": 3,
      "metadata": {
        "colab": {
          "base_uri": "https://localhost:8080/"
        },
        "id": "0raxyuffZ1FY",
        "outputId": "355cba1e-ce11-4893-d335-a2d405f14915"
      },
      "outputs": [
        {
          "output_type": "stream",
          "name": "stdout",
          "text": [
            "Downloading http://yann.lecun.com/exdb/mnist/train-images-idx3-ubyte.gz\n",
            "Downloading http://yann.lecun.com/exdb/mnist/train-images-idx3-ubyte.gz to ./data/MNIST/raw/train-images-idx3-ubyte.gz\n"
          ]
        },
        {
          "output_type": "stream",
          "name": "stderr",
          "text": [
            "100%|██████████| 9912422/9912422 [00:00<00:00, 71962667.02it/s]\n"
          ]
        },
        {
          "output_type": "stream",
          "name": "stdout",
          "text": [
            "Extracting ./data/MNIST/raw/train-images-idx3-ubyte.gz to ./data/MNIST/raw\n",
            "\n",
            "Downloading http://yann.lecun.com/exdb/mnist/train-labels-idx1-ubyte.gz\n",
            "Downloading http://yann.lecun.com/exdb/mnist/train-labels-idx1-ubyte.gz to ./data/MNIST/raw/train-labels-idx1-ubyte.gz\n"
          ]
        },
        {
          "output_type": "stream",
          "name": "stderr",
          "text": [
            "100%|██████████| 28881/28881 [00:00<00:00, 95532881.56it/s]"
          ]
        },
        {
          "output_type": "stream",
          "name": "stdout",
          "text": [
            "Extracting ./data/MNIST/raw/train-labels-idx1-ubyte.gz to ./data/MNIST/raw\n",
            "\n",
            "Downloading http://yann.lecun.com/exdb/mnist/t10k-images-idx3-ubyte.gz\n",
            "Downloading http://yann.lecun.com/exdb/mnist/t10k-images-idx3-ubyte.gz to ./data/MNIST/raw/t10k-images-idx3-ubyte.gz\n"
          ]
        },
        {
          "output_type": "stream",
          "name": "stderr",
          "text": [
            "\n",
            "100%|██████████| 1648877/1648877 [00:00<00:00, 20359539.92it/s]\n"
          ]
        },
        {
          "output_type": "stream",
          "name": "stdout",
          "text": [
            "Extracting ./data/MNIST/raw/t10k-images-idx3-ubyte.gz to ./data/MNIST/raw\n",
            "\n",
            "Downloading http://yann.lecun.com/exdb/mnist/t10k-labels-idx1-ubyte.gz\n",
            "Downloading http://yann.lecun.com/exdb/mnist/t10k-labels-idx1-ubyte.gz to ./data/MNIST/raw/t10k-labels-idx1-ubyte.gz\n"
          ]
        },
        {
          "output_type": "stream",
          "name": "stderr",
          "text": [
            "100%|██████████| 4542/4542 [00:00<00:00, 17461529.58it/s]\n"
          ]
        },
        {
          "output_type": "stream",
          "name": "stdout",
          "text": [
            "Extracting ./data/MNIST/raw/t10k-labels-idx1-ubyte.gz to ./data/MNIST/raw\n",
            "\n"
          ]
        },
        {
          "output_type": "execute_result",
          "data": {
            "text/plain": [
              "torch.Size([500, 1, 28, 28])"
            ]
          },
          "metadata": {},
          "execution_count": 3
        }
      ],
      "source": [
        "batch_size_train = 100\n",
        "batch_size_test = 500\n",
        "\n",
        "mnist_trainset =  datasets.MNIST('./data', train=True, download=True,\n",
        "                             transform=torchvision.transforms.Compose([\n",
        "                               torchvision.transforms.ToTensor(),\n",
        "                               torchvision.transforms.Normalize(\n",
        "                                 (0.1307,), (0.3081,))\n",
        "                             ]))\n",
        "\n",
        "train_loader = torch.utils.data.DataLoader(mnist_trainset, batch_size=batch_size_train, shuffle=True)\n",
        "\n",
        "mnist_testset =  datasets.MNIST('./data', train=False, download=True,\n",
        "                             transform=torchvision.transforms.Compose([\n",
        "                               torchvision.transforms.ToTensor(),\n",
        "                               torchvision.transforms.Normalize(\n",
        "                                 (0.1307,), (0.3081,))\n",
        "                             ]))\n",
        "\n",
        "test_loader = torch.utils.data.DataLoader(mnist_testset, batch_size=batch_size_test, shuffle=True)\n",
        "\n",
        "examples = enumerate(test_loader)\n",
        "batch_idx, (example_data, example_targets) = next(examples)\n",
        "\n",
        "example_data.shape"
      ]
    },
    {
      "cell_type": "markdown",
      "source": [
        " optionally visualize data to further understand the output from dataloader"
      ],
      "metadata": {
        "id": "fl2EvYyDlxRZ"
      }
    },
    {
      "cell_type": "code",
      "source": [
        "import matplotlib.pyplot as plt\n",
        "\n",
        "fig = plt.figure()\n",
        "for i in range(9):\n",
        "  plt.subplot(3,3,i+1)\n",
        "  plt.tight_layout()\n",
        "  plt.imshow(example_data[i][0], cmap='gray', interpolation='none')\n",
        "  plt.title(\"Label: {}\".format(example_targets[i]))\n",
        "  plt.xticks([])\n",
        "  plt.yticks([])\n",
        "fig\n"
      ],
      "metadata": {
        "colab": {
          "base_uri": "https://localhost:8080/",
          "height": 909
        },
        "id": "bQgBkJEdz0nk",
        "outputId": "b6a746cc-db69-4075-b125-b156d104a506"
      },
      "execution_count": 4,
      "outputs": [
        {
          "output_type": "execute_result",
          "data": {
            "text/plain": [
              "<Figure size 640x480 with 9 Axes>"
            ],
            "image/png": "[encoded data removed]"
          },
          "metadata": {},
          "execution_count": 4
        },
        {
          "output_type": "display_data",
          "data": {
            "text/plain": [
              "<Figure size 640x480 with 9 Axes>"
            ],
            "image/png": "[encoded data removed]"
          },
          "metadata": {}
        }
      ]
    },
    {
      "cell_type": "markdown",
      "source": [
        "# **2.Define an MLP**"
      ],
      "metadata": {
        "id": "RNQaSI6ifb2P"
      }
    },
    {
      "cell_type": "markdown",
      "source": [
        "2.1 MLP1:MLP with 1 hidden layer"
      ],
      "metadata": {
        "id": "cPQMoLcafqpP"
      }
    },
    {
      "cell_type": "code",
      "source": [
        "import torch.nn as nn\n",
        "import torch.nn.functional as F\n",
        "# Define the class for single layer NN\n",
        "class one_layer_net(torch.nn.Module):\n",
        "    # Constructor\n",
        "\n",
        "\n",
        "    def __init__(self):\n",
        "        super(one_layer_net, self).__init__()\n",
        "        self.fc1 = nn.Linear(784, 500)\n",
        "        self.fc2 = nn.Linear(500, 10)\n",
        "\n",
        "\n",
        "    def forward(self, x):\n",
        "        x = F.relu(self.fc1(x))\n",
        "        x = self.fc2(x)\n",
        "        return x\n",
        "\n",
        "m1_nn = one_layer_net()\n",
        "print(m1_nn)"
      ],
      "metadata": {
        "colab": {
          "base_uri": "https://localhost:8080/"
        },
        "id": "pZOUrQEmfopT",
        "outputId": "3261bf51-e02c-4df1-f634-d46e49a92e8b"
      },
      "execution_count": 5,
      "outputs": [
        {
          "output_type": "stream",
          "name": "stdout",
          "text": [
            "one_layer_net(\n",
            "  (fc1): Linear(in_features=784, out_features=500, bias=True)\n",
            "  (fc2): Linear(in_features=500, out_features=10, bias=True)\n",
            ")\n"
          ]
        }
      ]
    },
    {
      "cell_type": "markdown",
      "source": [
        "# **3. Define a Loss function and optimizer**\n",
        "Let's use a Classification Cross-Entropy loss and SGD with momentum."
      ],
      "metadata": {
        "id": "X5XU1z9-JQd7"
      }
    },
    {
      "cell_type": "code",
      "source": [
        "import torch.optim as optim\n",
        "\n",
        "criterion = nn.CrossEntropyLoss()\n",
        "optimizer = optim.SGD(m1_nn.parameters(), lr=0.001, momentum=0.9)"
      ],
      "metadata": {
        "id": "QH_Aq4axM7NE"
      },
      "execution_count": 6,
      "outputs": []
    },
    {
      "cell_type": "markdown",
      "source": [
        "# **4.Train the MLP**"
      ],
      "metadata": {
        "id": "bR-i1BUPNMeV"
      }
    },
    {
      "cell_type": "code",
      "source": [
        "for images,labels in train_loader:\n",
        "  print('Initial Batch Shape:',images.size()) #batch_size_train = 100\n",
        "  break\n",
        "print('Batch shape after flattening:',images.view(100,-1).size())"
      ],
      "metadata": {
        "colab": {
          "base_uri": "https://localhost:8080/"
        },
        "id": "dHeASWv9Fn0N",
        "outputId": "1df7be77-b9a3-48a4-8c1d-37cb0fb6dd15"
      },
      "execution_count": 7,
      "outputs": [
        {
          "output_type": "stream",
          "name": "stdout",
          "text": [
            "Initial Batch Shape: torch.Size([100, 1, 28, 28])\n",
            "Batch shape after flattening: torch.Size([100, 784])\n"
          ]
        }
      ]
    },
    {
      "cell_type": "code",
      "source": [
        "\n",
        "for epoch in range(10):  # loop over the dataset multiple times\n",
        "\n",
        "    running_loss = 0.0\n",
        "    for i, data in enumerate(train_loader, 0):\n",
        "        # get the inputs; data is a list of [inputs, labels]\n",
        "        inputs, labels = data\n",
        "\n",
        "        # zero the parameter gradients\n",
        "        optimizer.zero_grad()\n",
        "\n",
        "        # forward + backward + optimize\n",
        "        outputs = m1_nn(inputs.view(100, -1))\n",
        "        loss = criterion(outputs, labels)\n",
        "        loss.backward()\n",
        "        optimizer.step()\n",
        "\n",
        "        # print statistics\n",
        "        running_loss += loss.item()\n",
        "        if i % 500 == 0:    # print every 2000 mini-batches\n",
        "            print(f'[{epoch + 1}, {i + 1:5d}] loss: {running_loss / 500:.3f}')\n",
        "            running_loss = 0.0\n",
        "\n",
        "print('Finished Training')"
      ],
      "metadata": {
        "colab": {
          "base_uri": "https://localhost:8080/"
        },
        "id": "9VJQLTC_R4Qz",
        "outputId": "4fe1fdee-01fc-47ba-983b-8e95cba6fdd8"
      },
      "execution_count": 11,
      "outputs": [
        {
          "output_type": "stream",
          "name": "stdout",
          "text": [
            "[1,     1] loss: 0.001\n",
            "[1,   501] loss: 0.283\n",
            "[2,     1] loss: 0.000\n",
            "[2,   501] loss: 0.250\n",
            "[3,     1] loss: 0.001\n",
            "[3,   501] loss: 0.225\n",
            "[4,     1] loss: 0.000\n",
            "[4,   501] loss: 0.207\n",
            "[5,     1] loss: 0.000\n",
            "[5,   501] loss: 0.188\n",
            "[6,     1] loss: 0.000\n",
            "[6,   501] loss: 0.176\n",
            "[7,     1] loss: 0.001\n",
            "[7,   501] loss: 0.164\n",
            "[8,     1] loss: 0.000\n",
            "[8,   501] loss: 0.152\n",
            "[9,     1] loss: 0.000\n",
            "[9,   501] loss: 0.141\n",
            "[10,     1] loss: 0.000\n",
            "[10,   501] loss: 0.135\n",
            "Finished Training\n"
          ]
        }
      ]
    },
    {
      "cell_type": "markdown",
      "source": [
        "# **5.Test the MLP with testset**"
      ],
      "metadata": {
        "id": "4DDBEQsSTi2Y"
      }
    },
    {
      "cell_type": "code",
      "source": [
        "\n",
        "correct = 0\n",
        "total = 0\n",
        "# since we're not training, we don't need to calculate the gradients for our outputs\n",
        "with torch.no_grad():\n",
        "    for data in test_loader:\n",
        "        images, labels = data\n",
        "        # calculate outputs by running images through the network\n",
        "        outputs = m1_nn(images.view(500, -1))\n",
        "        # the class with the highest energy is what we choose as prediction\n",
        "        _, predicted = torch.max(outputs.data, 1)\n",
        "        total += labels.size(0)\n",
        "        correct += (predicted == labels).sum().item()\n",
        "\n",
        "print(f'Accuracy of the network on the 10000 test images: {100 * correct // total} %')"
      ],
      "metadata": {
        "colab": {
          "base_uri": "https://localhost:8080/"
        },
        "id": "sqUqFgxfTo9Q",
        "outputId": "4d74ddff-1af0-4b73-f4cc-2eb156e74276"
      },
      "execution_count": 10,
      "outputs": [
        {
          "output_type": "stream",
          "name": "stdout",
          "text": [
            "Accuracy of the network on the 10000 test images: 92 %\n"
          ]
        }
      ]
    },
    {
      "cell_type": "markdown",
      "source": [
        "# **6. Print out the performance using PyTorch Profiler**"
      ],
      "metadata": {
        "id": "pLeArxaShyiG"
      }
    },
    {
      "cell_type": "code",
      "source": [
        "import torch\n",
        "import torchvision.models as models\n",
        "from torch.profiler import profile, record_function, ProfilerActivity"
      ],
      "metadata": {
        "id": "6wyZsbvlh5Cs"
      },
      "execution_count": 1,
      "outputs": []
    },
    {
      "cell_type": "markdown",
      "source": [
        "execution time analysis:"
      ],
      "metadata": {
        "id": "j89iJrSFh8vV"
      }
    },
    {
      "cell_type": "code",
      "source": [
        "with profile(activities=[ProfilerActivity.CPU], record_shapes=True) as prof:\n",
        "    with record_function(\"model_inference\"):\n",
        "        m1_nn(inputs.view(100, -1))"
      ],
      "metadata": {
        "id": "svIZJJ62h-_B"
      },
      "execution_count": 12,
      "outputs": []
    },
    {
      "cell_type": "markdown",
      "source": [
        "memory consumption analysis:"
      ],
      "metadata": {
        "id": "lBOlmlpYjhT_"
      }
    },
    {
      "cell_type": "code",
      "source": [
        "with profile(activities=[ProfilerActivity.CPU],\n",
        "        profile_memory=True, record_shapes=True) as prof:\n",
        "    m1_nn(inputs.view(100,-1))\n",
        "print(prof.key_averages().table(sort_by=\"self_cpu_memory_usage\", row_limit=10))"
      ],
      "metadata": {
        "colab": {
          "base_uri": "https://localhost:8080/"
        },
        "id": "PuFZdoCjiDRR",
        "outputId": "1634c04d-61e5-405f-efb3-a850380d6bec"
      },
      "execution_count": 13,
      "outputs": [
        {
          "output_type": "stream",
          "name": "stdout",
          "text": [
            "----------------------  ------------  ------------  ------------  ------------  ------------  ------------  ------------  ------------  \n",
            "                  Name    Self CPU %      Self CPU   CPU total %     CPU total  CPU time avg       CPU Mem  Self CPU Mem    # of Calls  \n",
            "----------------------  ------------  ------------  ------------  ------------  ------------  ------------  ------------  ------------  \n",
            "           aten::addmm        90.22%       2.583ms        93.12%       2.666ms       1.333ms     199.22 Kb     199.22 Kb             2  \n",
            "       aten::clamp_min         2.27%      65.000us         2.27%      65.000us      65.000us     195.31 Kb     195.31 Kb             1  \n",
            "            aten::view         0.73%      21.000us         0.73%      21.000us      21.000us           0 b           0 b             1  \n",
            "          aten::linear         0.84%      24.000us        96.16%       2.753ms       1.377ms     199.22 Kb           0 b             2  \n",
            "               aten::t         1.15%      33.000us         2.20%      63.000us      31.500us           0 b           0 b             2  \n",
            "       aten::transpose         0.80%      23.000us         1.05%      30.000us      15.000us           0 b           0 b             2  \n",
            "      aten::as_strided         0.31%       9.000us         0.31%       9.000us       2.250us           0 b           0 b             4  \n",
            "          aten::expand         0.45%      13.000us         0.52%      15.000us       7.500us           0 b           0 b             2  \n",
            "           aten::copy_         2.38%      68.000us         2.38%      68.000us      34.000us           0 b           0 b             2  \n",
            "    aten::resolve_conj         0.00%       0.000us         0.00%       0.000us       0.000us           0 b           0 b             4  \n",
            "----------------------  ------------  ------------  ------------  ------------  ------------  ------------  ------------  ------------  \n",
            "Self CPU time total: 2.863ms\n",
            "\n"
          ]
        }
      ]
    },
    {
      "cell_type": "code",
      "source": [
        "print(prof.key_averages().table(sort_by=\"cpu_memory_usage\", row_limit=10))"
      ],
      "metadata": {
        "colab": {
          "base_uri": "https://localhost:8080/"
        },
        "id": "m-wcOs9gmLSY",
        "outputId": "4f09fac5-59c9-44c4-983b-a133712b5104"
      },
      "execution_count": 14,
      "outputs": [
        {
          "output_type": "stream",
          "name": "stdout",
          "text": [
            "----------------------  ------------  ------------  ------------  ------------  ------------  ------------  ------------  ------------  \n",
            "                  Name    Self CPU %      Self CPU   CPU total %     CPU total  CPU time avg       CPU Mem  Self CPU Mem    # of Calls  \n",
            "----------------------  ------------  ------------  ------------  ------------  ------------  ------------  ------------  ------------  \n",
            "          aten::linear         0.84%      24.000us        96.16%       2.753ms       1.377ms     199.22 Kb           0 b             2  \n",
            "           aten::addmm        90.22%       2.583ms        93.12%       2.666ms       1.333ms     199.22 Kb     199.22 Kb             2  \n",
            "            aten::relu         0.84%      24.000us         3.11%      89.000us      89.000us     195.31 Kb           0 b             1  \n",
            "       aten::clamp_min         2.27%      65.000us         2.27%      65.000us      65.000us     195.31 Kb     195.31 Kb             1  \n",
            "            aten::view         0.73%      21.000us         0.73%      21.000us      21.000us           0 b           0 b             1  \n",
            "               aten::t         1.15%      33.000us         2.20%      63.000us      31.500us           0 b           0 b             2  \n",
            "       aten::transpose         0.80%      23.000us         1.05%      30.000us      15.000us           0 b           0 b             2  \n",
            "      aten::as_strided         0.31%       9.000us         0.31%       9.000us       2.250us           0 b           0 b             4  \n",
            "          aten::expand         0.45%      13.000us         0.52%      15.000us       7.500us           0 b           0 b             2  \n",
            "           aten::copy_         2.38%      68.000us         2.38%      68.000us      34.000us           0 b           0 b             2  \n",
            "----------------------  ------------  ------------  ------------  ------------  ------------  ------------  ------------  ------------  \n",
            "Self CPU time total: 2.863ms\n",
            "\n"
          ]
        }
      ]
    }
  ],
  "metadata": {
    "colab": {
      "provenance": []
    },
    "kernelspec": {
      "display_name": "Python 3",
      "name": "python3"
    },
    "language_info": {
      "name": "python"
    }
  },
  "nbformat": 4,
  "nbformat_minor": 0
}