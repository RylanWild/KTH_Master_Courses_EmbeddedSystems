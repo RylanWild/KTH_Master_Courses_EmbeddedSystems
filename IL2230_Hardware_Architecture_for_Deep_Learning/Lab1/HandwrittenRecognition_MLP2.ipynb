{
  "cells": [
    {
      "cell_type": "markdown",
      "metadata": {
        "id": "umkBu6yhYzOL"
      },
      "source": [
        "# **1. Load and normalize dataset(MNIST)**"
      ]
    },
    {
      "cell_type": "code",
      "execution_count": 1,
      "metadata": {
        "id": "y4Ium3BWY_34"
      },
      "outputs": [],
      "source": [
        "import torch\n",
        "import torchvision\n",
        "import torchvision.datasets as datasets"
      ]
    },
    {
      "cell_type": "code",
      "execution_count": 2,
      "metadata": {
        "colab": {
          "base_uri": "https://localhost:8080/"
        },
        "id": "0raxyuffZ1FY",
        "outputId": "11825d01-3e94-43b5-9114-2efe584df9b1"
      },
      "outputs": [
        {
          "output_type": "stream",
          "name": "stdout",
          "text": [
            "Downloading http://yann.lecun.com/exdb/mnist/train-images-idx3-ubyte.gz\n",
            "Downloading http://yann.lecun.com/exdb/mnist/train-images-idx3-ubyte.gz to ./data/MNIST/raw/train-images-idx3-ubyte.gz\n"
          ]
        },
        {
          "output_type": "stream",
          "name": "stderr",
          "text": [
            "100%|██████████| 9912422/9912422 [00:00<00:00, 65440480.08it/s]\n"
          ]
        },
        {
          "output_type": "stream",
          "name": "stdout",
          "text": [
            "Extracting ./data/MNIST/raw/train-images-idx3-ubyte.gz to ./data/MNIST/raw\n",
            "\n",
            "Downloading http://yann.lecun.com/exdb/mnist/train-labels-idx1-ubyte.gz\n",
            "Downloading http://yann.lecun.com/exdb/mnist/train-labels-idx1-ubyte.gz to ./data/MNIST/raw/train-labels-idx1-ubyte.gz\n"
          ]
        },
        {
          "output_type": "stream",
          "name": "stderr",
          "text": [
            "100%|██████████| 28881/28881 [00:00<00:00, 66230559.77it/s]"
          ]
        },
        {
          "output_type": "stream",
          "name": "stdout",
          "text": [
            "Extracting ./data/MNIST/raw/train-labels-idx1-ubyte.gz to ./data/MNIST/raw\n",
            "\n",
            "Downloading http://yann.lecun.com/exdb/mnist/t10k-images-idx3-ubyte.gz\n",
            "Downloading http://yann.lecun.com/exdb/mnist/t10k-images-idx3-ubyte.gz to ./data/MNIST/raw/t10k-images-idx3-ubyte.gz\n"
          ]
        },
        {
          "output_type": "stream",
          "name": "stderr",
          "text": [
            "\n",
            "100%|██████████| 1648877/1648877 [00:00<00:00, 25388548.53it/s]\n"
          ]
        },
        {
          "output_type": "stream",
          "name": "stdout",
          "text": [
            "Extracting ./data/MNIST/raw/t10k-images-idx3-ubyte.gz to ./data/MNIST/raw\n",
            "\n",
            "Downloading http://yann.lecun.com/exdb/mnist/t10k-labels-idx1-ubyte.gz\n",
            "Downloading http://yann.lecun.com/exdb/mnist/t10k-labels-idx1-ubyte.gz to ./data/MNIST/raw/t10k-labels-idx1-ubyte.gz\n"
          ]
        },
        {
          "output_type": "stream",
          "name": "stderr",
          "text": [
            "100%|██████████| 4542/4542 [00:00<00:00, 13626987.67it/s]"
          ]
        },
        {
          "output_type": "stream",
          "name": "stdout",
          "text": [
            "Extracting ./data/MNIST/raw/t10k-labels-idx1-ubyte.gz to ./data/MNIST/raw\n",
            "\n"
          ]
        },
        {
          "output_type": "stream",
          "name": "stderr",
          "text": [
            "\n"
          ]
        },
        {
          "output_type": "execute_result",
          "data": {
            "text/plain": [
              "torch.Size([500, 1, 28, 28])"
            ]
          },
          "metadata": {},
          "execution_count": 2
        }
      ],
      "source": [
        "batch_size_train = 100\n",
        "batch_size_test = 500\n",
        "\n",
        "mnist_trainset =  datasets.MNIST('./data', train=True, download=True,\n",
        "                             transform=torchvision.transforms.Compose([\n",
        "                               torchvision.transforms.ToTensor(),\n",
        "                               torchvision.transforms.Normalize(\n",
        "                                 (0.1307,), (0.3081,))\n",
        "                             ]))\n",
        "\n",
        "train_loader = torch.utils.data.DataLoader(mnist_trainset, batch_size=batch_size_train, shuffle=True)\n",
        "\n",
        "mnist_testset =  datasets.MNIST('./data', train=False, download=True,\n",
        "                             transform=torchvision.transforms.Compose([\n",
        "                               torchvision.transforms.ToTensor(),\n",
        "                               torchvision.transforms.Normalize(\n",
        "                                 (0.1307,), (0.3081,))\n",
        "                             ]))\n",
        "\n",
        "test_loader = torch.utils.data.DataLoader(mnist_testset, batch_size=batch_size_test, shuffle=True)\n",
        "\n",
        "examples = enumerate(test_loader)\n",
        "batch_idx, (example_data, example_targets) = next(examples)\n",
        "\n",
        "example_data.shape"
      ]
    },
    {
      "cell_type": "markdown",
      "source": [
        " optionally visualize data to further understand the output from dataloader"
      ],
      "metadata": {
        "id": "fl2EvYyDlxRZ"
      }
    },
    {
      "cell_type": "code",
      "source": [
        "import matplotlib.pyplot as plt\n",
        "\n",
        "fig = plt.figure()\n",
        "for i in range(9):\n",
        "  plt.subplot(3,3,i+1)\n",
        "  plt.tight_layout()\n",
        "  plt.imshow(example_data[i][0], cmap='gray', interpolation='none')\n",
        "  plt.title(\"Label: {}\".format(example_targets[i]))\n",
        "  plt.xticks([])\n",
        "  plt.yticks([])\n",
        "fig\n"
      ],
      "metadata": {
        "colab": {
          "base_uri": "https://localhost:8080/",
          "height": 909
        },
        "id": "bQgBkJEdz0nk",
        "outputId": "4b14c806-9e1b-400b-f88d-ec127252e720"
      },
      "execution_count": 3,
      "outputs": [
        {
          "output_type": "execute_result",
          "data": {
            "text/plain": [
              "<Figure size 640x480 with 9 Axes>"
            ],
            "image/png": "[encoded data removed]"
          },
          "metadata": {},
          "execution_count": 3
        },
        {
          "output_type": "display_data",
          "data": {
            "text/plain": [
              "<Figure size 640x480 with 9 Axes>"
            ],
            "image/png": "[encoded data removed]"
          },
          "metadata": {}
        }
      ]
    },
    {
      "cell_type": "markdown",
      "source": [
        "# **2.Define an MLP**"
      ],
      "metadata": {
        "id": "RNQaSI6ifb2P"
      }
    },
    {
      "cell_type": "markdown",
      "source": [
        "2.1 MLP2:MLP with 2 hidden layer"
      ],
      "metadata": {
        "id": "cPQMoLcafqpP"
      }
    },
    {
      "cell_type": "code",
      "source": [
        "import torch.nn as nn\n",
        "import torch.nn.functional as F\n",
        "# Define the class for single layer NN\n",
        "class two_layer_net(torch.nn.Module):\n",
        "    # Constructor\n",
        "\n",
        "\n",
        "    def __init__(self):\n",
        "        super(two_layer_net, self).__init__()\n",
        "        self.fc1 = nn.Linear(784, 300)\n",
        "        self.fc2 = nn.Linear(300, 100)\n",
        "        self.fc3 = nn.Linear(100, 10)\n",
        "\n",
        "\n",
        "    def forward(self, x):\n",
        "        x = F.relu(self.fc1(x))\n",
        "        x = F.relu(self.fc2(x))\n",
        "        x = self.fc3(x)\n",
        "        return x\n",
        "\n",
        "m2_nn = two_layer_net()\n",
        "print(m2_nn)"
      ],
      "metadata": {
        "colab": {
          "base_uri": "https://localhost:8080/"
        },
        "id": "pZOUrQEmfopT",
        "outputId": "ee210ceb-7108-443f-cc58-0e20e82a31f7"
      },
      "execution_count": 4,
      "outputs": [
        {
          "output_type": "stream",
          "name": "stdout",
          "text": [
            "two_layer_net(\n",
            "  (fc1): Linear(in_features=784, out_features=300, bias=True)\n",
            "  (fc2): Linear(in_features=300, out_features=100, bias=True)\n",
            "  (fc3): Linear(in_features=100, out_features=10, bias=True)\n",
            ")\n"
          ]
        }
      ]
    },
    {
      "cell_type": "markdown",
      "source": [
        "# **3. Define a Loss function and optimizer**\n",
        "Let's use a Classification Cross-Entropy loss and SGD with momentum."
      ],
      "metadata": {
        "id": "X5XU1z9-JQd7"
      }
    },
    {
      "cell_type": "code",
      "source": [
        "import torch.optim as optim\n",
        "\n",
        "criterion = nn.CrossEntropyLoss()\n",
        "optimizer = optim.SGD(m2_nn.parameters(), lr=0.001, momentum=0.9)"
      ],
      "metadata": {
        "id": "QH_Aq4axM7NE"
      },
      "execution_count": 5,
      "outputs": []
    },
    {
      "cell_type": "markdown",
      "source": [
        "# **4.Train the MLP**"
      ],
      "metadata": {
        "id": "bR-i1BUPNMeV"
      }
    },
    {
      "cell_type": "code",
      "source": [
        "for images,labels in train_loader:\n",
        "  print('Initial Batch Shape:',images.size()) #batch_size_train = 100\n",
        "  break\n",
        "print('Batch shape after flattening:',images.view(100,-1).size())"
      ],
      "metadata": {
        "colab": {
          "base_uri": "https://localhost:8080/"
        },
        "id": "dHeASWv9Fn0N",
        "outputId": "1786e0d3-436f-4c06-aa52-c3ff1c6bd130"
      },
      "execution_count": 6,
      "outputs": [
        {
          "output_type": "stream",
          "name": "stdout",
          "text": [
            "Initial Batch Shape: torch.Size([100, 1, 28, 28])\n",
            "Batch shape after flattening: torch.Size([100, 784])\n"
          ]
        }
      ]
    },
    {
      "cell_type": "code",
      "source": [
        "for epoch in range(10):  # loop over the dataset multiple times\n",
        "\n",
        "    running_loss = 0.0\n",
        "    for i, data in enumerate(train_loader, 0):\n",
        "        # get the inputs; data is a list of [inputs, labels]\n",
        "        inputs, labels = data\n",
        "\n",
        "        # zero the parameter gradients\n",
        "        optimizer.zero_grad()\n",
        "\n",
        "        # forward + backward + optimize\n",
        "        outputs = m2_nn(inputs.view(100, -1))\n",
        "        loss = criterion(outputs, labels)\n",
        "        loss.backward()\n",
        "        optimizer.step()\n",
        "\n",
        "        # print statistics\n",
        "        running_loss += loss.item()\n",
        "        if i % 500 == 0:    # print every 2000 mini-batches\n",
        "            print(f'[{epoch + 1}, {i + 1:5d}] loss: {running_loss / 500:.3f}')\n",
        "            running_loss = 0.0\n",
        "\n",
        "print('Finished Training')"
      ],
      "metadata": {
        "colab": {
          "base_uri": "https://localhost:8080/"
        },
        "id": "9VJQLTC_R4Qz",
        "outputId": "ac2f00bb-5fa5-4388-8bdc-cff5726e6f0b"
      },
      "execution_count": 7,
      "outputs": [
        {
          "output_type": "stream",
          "name": "stdout",
          "text": [
            "[1,     1] loss: 0.005\n",
            "[1,   501] loss: 1.245\n",
            "[2,     1] loss: 0.001\n",
            "[2,   501] loss: 0.371\n",
            "[3,     1] loss: 0.001\n",
            "[3,   501] loss: 0.302\n",
            "[4,     1] loss: 0.001\n",
            "[4,   501] loss: 0.266\n",
            "[5,     1] loss: 0.000\n",
            "[5,   501] loss: 0.238\n",
            "[6,     1] loss: 0.000\n",
            "[6,   501] loss: 0.214\n",
            "[7,     1] loss: 0.001\n",
            "[7,   501] loss: 0.194\n",
            "[8,     1] loss: 0.000\n",
            "[8,   501] loss: 0.175\n",
            "[9,     1] loss: 0.000\n",
            "[9,   501] loss: 0.160\n",
            "[10,     1] loss: 0.000\n",
            "[10,   501] loss: 0.146\n",
            "Finished Training\n"
          ]
        }
      ]
    },
    {
      "cell_type": "markdown",
      "source": [
        "# **5.Test the MLP with testset**"
      ],
      "metadata": {
        "id": "4DDBEQsSTi2Y"
      }
    },
    {
      "cell_type": "code",
      "source": [
        "\n",
        "correct = 0\n",
        "total = 0\n",
        "# since we're not training, we don't need to calculate the gradients for our outputs\n",
        "with torch.no_grad():\n",
        "    for data in test_loader:\n",
        "        images, labels = data\n",
        "        # calculate outputs by running images through the network\n",
        "        outputs = m2_nn(images.view(500, -1))\n",
        "        # the class with the highest energy is what we choose as prediction\n",
        "        _, predicted = torch.max(outputs.data, 1)\n",
        "        total += labels.size(0)\n",
        "        correct += (predicted == labels).sum().item()\n",
        "\n",
        "print(f'Accuracy of the network on the 10000 test images: {100 * correct // total} %')"
      ],
      "metadata": {
        "colab": {
          "base_uri": "https://localhost:8080/"
        },
        "id": "sqUqFgxfTo9Q",
        "outputId": "3f3280bc-0f21-49f2-a0fc-47695f46fa53"
      },
      "execution_count": 8,
      "outputs": [
        {
          "output_type": "stream",
          "name": "stdout",
          "text": [
            "Accuracy of the network on the 10000 test images: 95 %\n"
          ]
        }
      ]
    },
    {
      "cell_type": "markdown",
      "source": [
        "# **6. Print out the performance using PyTorch Profiler**"
      ],
      "metadata": {
        "id": "pLeArxaShyiG"
      }
    },
    {
      "cell_type": "code",
      "source": [
        "import torch\n",
        "import torchvision.models as models\n",
        "from torch.profiler import profile, record_function, ProfilerActivity"
      ],
      "metadata": {
        "id": "6wyZsbvlh5Cs"
      },
      "execution_count": 9,
      "outputs": []
    },
    {
      "cell_type": "markdown",
      "source": [
        "execution time analysis:"
      ],
      "metadata": {
        "id": "j89iJrSFh8vV"
      }
    },
    {
      "cell_type": "code",
      "source": [
        "with profile(activities=[ProfilerActivity.CPU], record_shapes=True) as prof:\n",
        "    with record_function(\"model_inference\"):\n",
        "        m2_nn(inputs.view(100, -1))"
      ],
      "metadata": {
        "id": "svIZJJ62h-_B"
      },
      "execution_count": 12,
      "outputs": []
    },
    {
      "cell_type": "code",
      "source": [
        "print(prof.key_averages(group_by_input_shape=True).table(sort_by=\"cpu_time_total\", row_limit=10))"
      ],
      "metadata": {
        "colab": {
          "base_uri": "https://localhost:8080/"
        },
        "id": "PuFZdoCjiDRR",
        "outputId": "cd83ca95-e63a-4cdf-ca90-590d298028f0"
      },
      "execution_count": 13,
      "outputs": [
        {
          "output_type": "stream",
          "name": "stdout",
          "text": [
            "----------------------  ------------  ------------  ------------  ------------  ------------  ------------  -------------------------------------------  \n",
            "                  Name    Self CPU %      Self CPU   CPU total %     CPU total  CPU time avg    # of Calls                                 Input Shapes  \n",
            "----------------------  ------------  ------------  ------------  ------------  ------------  ------------  -------------------------------------------  \n",
            "       model_inference        20.04%     533.000us       100.00%       2.660ms       2.660ms             1                                           []  \n",
            "          aten::linear         0.83%      22.000us        58.65%       1.560ms       1.560ms             1              [[100, 784], [300, 784], [300]]  \n",
            "           aten::addmm        52.56%       1.398ms        55.79%       1.484ms       1.484ms             1      [[300], [100, 784], [784, 300], [], []]  \n",
            "          aten::linear         0.38%      10.000us        11.50%     306.000us     306.000us             1              [[100, 300], [100, 300], [100]]  \n",
            "           aten::addmm         8.65%     230.000us         9.77%     260.000us     260.000us             1      [[100], [100, 300], [300, 100], [], []]  \n",
            "            aten::relu         1.35%      36.000us         3.83%     102.000us     102.000us             1                                 [[100, 300]]  \n",
            "          aten::linear         0.23%       6.000us         3.53%      94.000us      94.000us             1                [[100, 100], [10, 100], [10]]  \n",
            "           aten::copy_         2.82%      75.000us         2.82%      75.000us      75.000us             1                 [[100, 300], [100, 300], []]  \n",
            "           aten::addmm         1.99%      53.000us         2.56%      68.000us      68.000us             1        [[10], [100, 100], [100, 10], [], []]  \n",
            "       aten::clamp_min         2.48%      66.000us         2.48%      66.000us      66.000us             1                             [[100, 300], []]  \n",
            "----------------------  ------------  ------------  ------------  ------------  ------------  ------------  -------------------------------------------  \n",
            "Self CPU time total: 2.660ms\n",
            "\n"
          ]
        }
      ]
    },
    {
      "cell_type": "markdown",
      "source": [
        "memory consumption analysis:"
      ],
      "metadata": {
        "id": "lBOlmlpYjhT_"
      }
    },
    {
      "cell_type": "code",
      "source": [
        "with profile(activities=[ProfilerActivity.CPU],\n",
        "        profile_memory=True, record_shapes=True) as prof:\n",
        "    m2_nn(inputs.view(100,-1))\n",
        "print(prof.key_averages().table(sort_by=\"self_cpu_memory_usage\", row_limit=10))"
      ],
      "metadata": {
        "colab": {
          "base_uri": "https://localhost:8080/"
        },
        "id": "FH4SdzcEj86D",
        "outputId": "620a5161-cc8e-4cb3-99e8-2ea9bfdca10e"
      },
      "execution_count": 14,
      "outputs": [
        {
          "output_type": "stream",
          "name": "stdout",
          "text": [
            "----------------------  ------------  ------------  ------------  ------------  ------------  ------------  ------------  ------------  \n",
            "                  Name    Self CPU %      Self CPU   CPU total %     CPU total  CPU time avg       CPU Mem  Self CPU Mem    # of Calls  \n",
            "----------------------  ------------  ------------  ------------  ------------  ------------  ------------  ------------  ------------  \n",
            "           aten::addmm        78.81%       1.848ms        84.26%       1.976ms     658.667us     160.16 Kb     160.16 Kb             3  \n",
            "       aten::clamp_min         3.71%      87.000us         3.71%      87.000us      43.500us     156.25 Kb     156.25 Kb             2  \n",
            "            aten::view         1.71%      40.000us         1.71%      40.000us      40.000us           0 b           0 b             1  \n",
            "          aten::linear         1.92%      45.000us        92.32%       2.165ms     721.667us     160.16 Kb           0 b             3  \n",
            "               aten::t         3.20%      75.000us         6.14%     144.000us      48.000us           0 b           0 b             3  \n",
            "       aten::transpose         2.05%      48.000us         2.94%      69.000us      23.000us           0 b           0 b             3  \n",
            "      aten::as_strided         1.07%      25.000us         1.07%      25.000us       4.167us           0 b           0 b             6  \n",
            "          aten::expand         1.07%      25.000us         1.24%      29.000us       9.667us           0 b           0 b             3  \n",
            "           aten::copy_         4.18%      98.000us         4.18%      98.000us      32.667us           0 b           0 b             3  \n",
            "    aten::resolve_conj         0.04%       1.000us         0.04%       1.000us       0.167us           0 b           0 b             6  \n",
            "----------------------  ------------  ------------  ------------  ------------  ------------  ------------  ------------  ------------  \n",
            "Self CPU time total: 2.345ms\n",
            "\n"
          ]
        }
      ]
    },
    {
      "cell_type": "code",
      "source": [
        "print(prof.key_averages().table(sort_by=\"cpu_memory_usage\", row_limit=10))"
      ],
      "metadata": {
        "colab": {
          "base_uri": "https://localhost:8080/"
        },
        "id": "9DpIBuLAkMDT",
        "outputId": "57924ba1-ca18-4c77-9221-33218d76b65b"
      },
      "execution_count": 15,
      "outputs": [
        {
          "output_type": "stream",
          "name": "stdout",
          "text": [
            "----------------------  ------------  ------------  ------------  ------------  ------------  ------------  ------------  ------------  \n",
            "                  Name    Self CPU %      Self CPU   CPU total %     CPU total  CPU time avg       CPU Mem  Self CPU Mem    # of Calls  \n",
            "----------------------  ------------  ------------  ------------  ------------  ------------  ------------  ------------  ------------  \n",
            "          aten::linear         1.92%      45.000us        92.32%       2.165ms     721.667us     160.16 Kb           0 b             3  \n",
            "           aten::addmm        78.81%       1.848ms        84.26%       1.976ms     658.667us     160.16 Kb     160.16 Kb             3  \n",
            "            aten::relu         2.26%      53.000us         5.97%     140.000us      70.000us     156.25 Kb           0 b             2  \n",
            "       aten::clamp_min         3.71%      87.000us         3.71%      87.000us      43.500us     156.25 Kb     156.25 Kb             2  \n",
            "            aten::view         1.71%      40.000us         1.71%      40.000us      40.000us           0 b           0 b             1  \n",
            "               aten::t         3.20%      75.000us         6.14%     144.000us      48.000us           0 b           0 b             3  \n",
            "       aten::transpose         2.05%      48.000us         2.94%      69.000us      23.000us           0 b           0 b             3  \n",
            "      aten::as_strided         1.07%      25.000us         1.07%      25.000us       4.167us           0 b           0 b             6  \n",
            "          aten::expand         1.07%      25.000us         1.24%      29.000us       9.667us           0 b           0 b             3  \n",
            "           aten::copy_         4.18%      98.000us         4.18%      98.000us      32.667us           0 b           0 b             3  \n",
            "----------------------  ------------  ------------  ------------  ------------  ------------  ------------  ------------  ------------  \n",
            "Self CPU time total: 2.345ms\n",
            "\n"
          ]
        }
      ]
    }
  ],
  "metadata": {
    "colab": {
      "provenance": []
    },
    "kernelspec": {
      "display_name": "Python 3",
      "name": "python3"
    },
    "language_info": {
      "name": "python"
    }
  },
  "nbformat": 4,
  "nbformat_minor": 0
}